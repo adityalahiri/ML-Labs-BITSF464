{
 "cells": [
  {
   "cell_type": "code",
   "execution_count": 118,
   "metadata": {
    "collapsed": true
   },
   "outputs": [],
   "source": [
    "import pandas as pd\n",
    "import numpy as np\n",
    "from sklearn.preprocessing import LabelEncoder\n",
    "from sklearn.model_selection import train_test_split"
   ]
  },
  {
   "cell_type": "code",
   "execution_count": 619,
   "metadata": {},
   "outputs": [],
   "source": [
    "train_df = pd.read_csv('TRAIN.csv')"
   ]
  },
  {
   "cell_type": "code",
   "execution_count": 620,
   "metadata": {
    "collapsed": true
   },
   "outputs": [],
   "source": [
    "test_df = pd.read_csv('TEST.csv')"
   ]
  },
  {
   "cell_type": "code",
   "execution_count": 621,
   "metadata": {
    "collapsed": true
   },
   "outputs": [],
   "source": [
    "test_df = test_df.replace(to_replace=['Unknown/Invalid'],value=['Female'])"
   ]
  },
  {
   "cell_type": "code",
   "execution_count": 622,
   "metadata": {},
   "outputs": [
    {
     "data": {
      "text/plain": [
       "array(['Female', 'Male', 'Unknown/Invalid'], dtype=object)"
      ]
     },
     "execution_count": 622,
     "metadata": {},
     "output_type": "execute_result"
    }
   ],
   "source": [
    "train_df['gender'].unique()"
   ]
  },
  {
   "cell_type": "code",
   "execution_count": 623,
   "metadata": {},
   "outputs": [],
   "source": [
    "train_df = train_df[train_df['gender']!='Unknown/Invalid']\n"
   ]
  },
  {
   "cell_type": "code",
   "execution_count": 662,
   "metadata": {},
   "outputs": [
    {
     "data": {
      "text/plain": [
       "\"train_df['max_glu_serum'] = train_df['max_glu_serum'].replace(['None', '>300', 'Norm', 250],[0,300,1,250])\\ntest_df['max_glu_serum'] = test_df['max_glu_serum'].replace(['None', '>300', 'Norm', 250],[0,300,1,250])\""
      ]
     },
     "execution_count": 662,
     "metadata": {},
     "output_type": "execute_result"
    }
   ],
   "source": [
    "train_df = train_df.replace(to_replace=['?'],value=[np.nan])\n",
    "test_df = test_df.replace(to_replace=['?'],value=[np.nan])\n",
    "\n",
    "\n",
    "\n",
    "train_df = train_df.replace(to_replace=['No','Yes'],value=[False,True])\n",
    "test_df = test_df.replace(to_replace=['No','Yes'],value=[False,True])\n",
    "\n",
    "train_df = train_df.replace(to_replace=['Female','Male'],value=[0,1])\n",
    "test_df = test_df.replace(to_replace=['Female','Male'],value=[0,1])\n",
    "train_df['gender'] = train_df['gender'].astype(int)\n",
    "test_df['gender'] = test_df['gender'].astype(int)\n",
    "\n",
    "train_df = train_df.replace(to_replace=['Caucasian', 'AfricanAmerican', '?', 'Other', 'Asian', 'Hispanic'],\n",
    "                            value=[0,1,2,3,4,5])\n",
    "test_df = test_df.replace(to_replace=['Caucasian', 'AfricanAmerican', '?', 'Other', 'Asian', 'Hispanic'],\n",
    "                            value=[0,1,2,3,4,5])\n",
    "\n",
    "\n",
    "train_df = train_df.replace(to_replace = [np.nan, '[75-100)', '[50-75)', '[0-25)', '[100-125)', '[25-50)',\n",
    "       '[125-150)', '[175-200)', '[150-175)', '>200'],value=[-1,100,75,25,125,50,150,200,175,250])\n",
    "test_df = test_df.replace(to_replace = [np.nan, '[75-100)', '[50-75)', '[0-25)', '[100-125)', '[25-50)',\n",
    "       '[125-150)', '[175-200)', '[150-175)', '>200'],value=[-1,100,75,25,125,50,150,200,175,250])\n",
    "\n",
    "train_df = train_df.replace(to_replace=\n",
    "              ['MC', 'CP', 'HM', '?', 'UN', 'SP', 'MD', 'CM', 'BC', 'PO', 'OG',\n",
    "              'DM', 'MP', 'OT', 'CH', 'SI', 'WC', 'FR']\n",
    "                            ,value = list(range(18)))\n",
    "                            \n",
    "test_df = test_df.replace(to_replace=\n",
    "              ['MC', 'CP', 'HM', '?', 'UN', 'SP', 'MD', 'CM', 'BC', 'PO', 'OG',\n",
    "              'DM', 'MP', 'OT', 'CH', 'SI', 'WC', 'FR']\n",
    "                            ,value = list(range(18)))\n",
    "\n",
    "train_df = train_df.replace(to_replace= [False, 'Steady', 'Up', 'Down',True],value=[0,4,5,6,1])\n",
    "test_df = test_df.replace(to_replace= [False, 'Steady', 'Up', 'Down',True],value=[0,4,5,6,1])\n",
    "                           \n",
    "train_df['medical_specialty'] = train_df['medical_specialty'].replace(-1,'None')\n",
    "test_df['medical_specialty'] = test_df['medical_specialty'].replace(-1,'None') \n",
    "\n",
    "train_df['repaglinide'] = train_df['repaglinide'].astype(int)\n",
    "test_df['repaglinide'] = test_df['repaglinide'].astype(int)\n",
    "\n",
    "train_df['nateglinide'] = train_df['nateglinide'].astype(int)\n",
    "test_df['nateglinide'] = test_df['nateglinide'].astype(int)\n",
    "\n",
    "train_df['chlorpropamide'] = train_df['chlorpropamide'].astype(int)\n",
    "test_df['chlorpropamide'] = test_df['chlorpropamide'].astype(int)\n",
    "\n",
    "\n",
    "train_df['glimepiride'] = train_df['glimepiride'].astype(int)\n",
    "test_df['glimepiride'] = test_df['glimepiride'].astype(int)\n",
    "\n",
    "'''train_df['max_glu_serum'] = train_df['max_glu_serum'].replace(['None', '>300', 'Norm', 250],[0,300,1,250])\n",
    "test_df['max_glu_serum'] = test_df['max_glu_serum'].replace(['None', '>300', 'Norm', 250],[0,300,1,250])'''"
   ]
  },
  {
   "cell_type": "code",
   "execution_count": 663,
   "metadata": {
    "collapsed": true
   },
   "outputs": [],
   "source": [
    "cols=['age']"
   ]
  },
  {
   "cell_type": "code",
   "execution_count": 664,
   "metadata": {
    "scrolled": true
   },
   "outputs": [
    {
     "name": "stdout",
     "output_type": "stream",
     "text": [
      "age\n"
     ]
    }
   ],
   "source": [
    "for col in cols:\n",
    "    le = LabelEncoder()\n",
    "    print(col)\n",
    "   # train_df[col] = train_df[col].fillna('0')\n",
    "    le.fit(train_df[col])\n",
    "    \n",
    "    train_df[col] = le.transform(train_df[col])\n",
    "    test_df[col] = le.transform(test_df[col])"
   ]
  },
  {
   "cell_type": "code",
   "execution_count": 665,
   "metadata": {
    "collapsed": true
   },
   "outputs": [],
   "source": [
    "to_drop = [  'diag_1', 'diag_2', 'diag_3', 'max_glu_serum',\n",
    "           'A1Cresult', 'acetohexamide',\n",
    "            'change',\n",
    "           'glimepiride-pioglitazone', 'metformin-rosiglitazone', 'metformin-pioglitazone',\n",
    "          'readmitted_NO','medical_specialty','diabetesMed']"
   ]
  },
  {
   "cell_type": "code",
   "execution_count": 666,
   "metadata": {},
   "outputs": [],
   "source": [
    "X = train_df.drop(to_drop,axis=1)"
   ]
  },
  {
   "cell_type": "code",
   "execution_count": 667,
   "metadata": {},
   "outputs": [],
   "source": [
    "y = train_df['readmitted_NO']"
   ]
  },
  {
   "cell_type": "code",
   "execution_count": 668,
   "metadata": {},
   "outputs": [],
   "source": [
    "X_train,X_test,y_train,y_test = train_test_split(X,y,test_size = 0.33,random_state=42)"
   ]
  },
  {
   "cell_type": "code",
   "execution_count": 739,
   "metadata": {},
   "outputs": [
    {
     "data": {
      "text/plain": [
       "XGBClassifier(base_score=0.5, booster='gbtree', colsample_bylevel=1,\n",
       "       colsample_bytree=1, gamma=0, learning_rate=0.1, max_delta_step=0,\n",
       "       max_depth=10, min_child_weight=1, missing=None, n_estimators=20,\n",
       "       n_jobs=3, nthread=None, objective='binary:logistic', random_state=0,\n",
       "       reg_alpha=0, reg_lambda=1, scale_pos_weight=1, seed=None,\n",
       "       silent=True, subsample=1)"
      ]
     },
     "execution_count": 739,
     "metadata": {},
     "output_type": "execute_result"
    }
   ],
   "source": [
    "from xgboost import XGBClassifier\n",
    "\n",
    "clf = XGBClassifier(max_depth=10,n_estimators=20,n_jobs=3)\n",
    "clf.fit(X_train,y_train)"
   ]
  },
  {
   "cell_type": "code",
   "execution_count": 740,
   "metadata": {},
   "outputs": [
    {
     "name": "stdout",
     "output_type": "stream",
     "text": [
      "0.640803130849\n"
     ]
    }
   ],
   "source": [
    "from sklearn.metrics import accuracy_score\n",
    "\n",
    "pred = clf.predict(X_test)\n",
    "\n",
    "print(accuracy_score(y_test,pred))"
   ]
  },
  {
   "cell_type": "code",
   "execution_count": 726,
   "metadata": {},
   "outputs": [
    {
     "data": {
      "text/plain": [
       "RandomForestClassifier(bootstrap=True, class_weight=None, criterion='gini',\n",
       "            max_depth=8, max_features=10, max_leaf_nodes=None,\n",
       "            min_impurity_decrease=0.0, min_impurity_split=None,\n",
       "            min_samples_leaf=1, min_samples_split=2,\n",
       "            min_weight_fraction_leaf=0.0, n_estimators=150, n_jobs=None,\n",
       "            oob_score=False, random_state=None, verbose=0,\n",
       "            warm_start=False)"
      ]
     },
     "execution_count": 726,
     "metadata": {},
     "output_type": "execute_result"
    }
   ],
   "source": [
    "from sklearn.ensemble import RandomForestClassifier\n",
    "\n",
    "clf = RandomForestClassifier(max_depth=8,max_features=10,n_estimators=150)\n",
    "clf.fit(X_train,y_train)"
   ]
  },
  {
   "cell_type": "code",
   "execution_count": 727,
   "metadata": {},
   "outputs": [
    {
     "name": "stdout",
     "output_type": "stream",
     "text": [
      "0.633699166241\n"
     ]
    }
   ],
   "source": [
    "from sklearn.metrics import accuracy_score\n",
    "\n",
    "pred = clf.predict(X_test)\n",
    "\n",
    "print(accuracy_score(y_test,pred))"
   ]
  },
  {
   "cell_type": "code",
   "execution_count": null,
   "metadata": {
    "collapsed": true
   },
   "outputs": [],
   "source": [
    "0.639739663093"
   ]
  },
  {
   "cell_type": "code",
   "execution_count": 741,
   "metadata": {
    "collapsed": true
   },
   "outputs": [],
   "source": [
    "test_to_drop = ['diag_1', 'diag_2', 'diag_3', 'max_glu_serum','medical_specialty',\n",
    "           'A1Cresult', 'acetohexamide'\n",
    "           , 'change',\n",
    "           'glimepiride-pioglitazone', 'metformin-rosiglitazone', 'metformin-pioglitazone','index','diabetesMed']"
   ]
  },
  {
   "cell_type": "code",
   "execution_count": 742,
   "metadata": {},
   "outputs": [],
   "source": [
    "X_t = test_df.drop(test_to_drop,axis=1)"
   ]
  },
  {
   "cell_type": "code",
   "execution_count": 743,
   "metadata": {},
   "outputs": [],
   "source": [
    "y_out = clf.predict(X_t)"
   ]
  },
  {
   "cell_type": "code",
   "execution_count": 744,
   "metadata": {
    "collapsed": true
   },
   "outputs": [],
   "source": [
    "sol = pd.DataFrame(data = y_out, index = test_df['index'])\n",
    "sol.to_csv('ans.csv')"
   ]
  },
  {
   "cell_type": "code",
   "execution_count": 661,
   "metadata": {},
   "outputs": [
    {
     "data": {
      "text/plain": [
       "array([0])"
      ]
     },
     "execution_count": 661,
     "metadata": {},
     "output_type": "execute_result"
    }
   ],
   "source": [
    "test_df[ 'acetohexamide'\n",
    "       ].unique()"
   ]
  },
  {
   "cell_type": "code",
   "execution_count": 424,
   "metadata": {},
   "outputs": [
    {
     "data": {
      "text/plain": [
       "array([-1,  1,  2])"
      ]
     },
     "execution_count": 424,
     "metadata": {},
     "output_type": "execute_result"
    }
   ],
   "source": [
    "test_df['metformin'].unique()"
   ]
  },
  {
   "cell_type": "code",
   "execution_count": null,
   "metadata": {
    "collapsed": true
   },
   "outputs": [],
   "source": []
  }
 ],
 "metadata": {
  "kernelspec": {
   "display_name": "Python 3",
   "language": "python",
   "name": "python3"
  },
  "language_info": {
   "codemirror_mode": {
    "name": "ipython",
    "version": 3
   },
   "file_extension": ".py",
   "mimetype": "text/x-python",
   "name": "python",
   "nbconvert_exporter": "python",
   "pygments_lexer": "ipython3",
   "version": "3.6.3"
  }
 },
 "nbformat": 4,
 "nbformat_minor": 2
}
